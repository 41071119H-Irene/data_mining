{
 "cells": [
  {
   "cell_type": "code",
   "execution_count": 48,
   "id": "03a13b7d",
   "metadata": {},
   "outputs": [
    {
     "name": "stderr",
     "output_type": "stream",
     "text": [
      "C:\\Users\\Irene Chang\\AppData\\Roaming\\Python\\Python39\\site-packages\\gradio\\utils.py:858: UserWarning: Expected 6 arguments for function <function sentence_builder at 0x000001E295476310>, received 5.\n",
      "  warnings.warn(\n",
      "C:\\Users\\Irene Chang\\AppData\\Roaming\\Python\\Python39\\site-packages\\gradio\\utils.py:862: UserWarning: Expected at least 6 arguments for function <function sentence_builder at 0x000001E295476310>, received 5.\n",
      "  warnings.warn(\n"
     ]
    },
    {
     "name": "stdout",
     "output_type": "stream",
     "text": [
      "Running on local URL:  http://127.0.0.1:7876\n",
      "\n",
      "To create a public link, set `share=True` in `launch()`.\n"
     ]
    },
    {
     "data": {
      "text/html": [
       "<div><iframe src=\"http://127.0.0.1:7876/\" width=\"100%\" height=\"500\" allow=\"autoplay; camera; microphone; clipboard-read; clipboard-write;\" frameborder=\"0\" allowfullscreen></iframe></div>"
      ],
      "text/plain": [
       "<IPython.core.display.HTML object>"
      ]
     },
     "metadata": {},
     "output_type": "display_data"
    }
   ],
   "source": [
    "import gradio as gr\n",
    "\n",
    "\n",
    "demo = gr.Interface(\n",
    "    sentence_builder,\n",
    "    [\n",
    "        gr.Dropdown(\n",
    "            [\"岳陽樓記/范仲淹\", \"紙船印象/洪醒夫\", \"桂花雨/琦君\"], label=\"Lecture\", info=\"想要哪一課的教案?\"),\n",
    "        gr.Textbox(label=\"課程主題\",lines=3,value=\"\"),\n",
    "        gr.Textbox(label=\"教學目標\",lines=3,value=\"\"),\n",
    "        gr.Number(label=\"課程時長(小時)\", value=0),\n",
    "        gr.Radio([\"戶外參訪課程\", \"室內活動課程\", \"討論題目\"], label=\"課程類別\"),\n",
    "    ],\n",
    "    outputs=[gr.Textbox(label=\"教學活動\", lines=10)],\n",
    "    \n",
    ")\n",
    "\n",
    "if __name__ == \"__main__\":\n",
    "    demo.launch()"
   ]
  }
 ],
 "metadata": {
  "kernelspec": {
   "display_name": "Python 3 (ipykernel)",
   "language": "python",
   "name": "python3"
  },
  "language_info": {
   "codemirror_mode": {
    "name": "ipython",
    "version": 3
   },
   "file_extension": ".py",
   "mimetype": "text/x-python",
   "name": "python",
   "nbconvert_exporter": "python",
   "pygments_lexer": "ipython3",
   "version": "3.9.12"
  }
 },
 "nbformat": 4,
 "nbformat_minor": 5
}
