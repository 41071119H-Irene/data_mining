{
 "cells": [
  {
   "cell_type": "markdown",
   "id": "1532f478",
   "metadata": {},
   "source": [
    "# 嘗試用老師原本的code跑出結果"
   ]
  },
  {
   "cell_type": "markdown",
   "id": "c3141e27",
   "metadata": {},
   "source": [
    "### 兩次的結果不一樣，應證是openAI每次生成都是隨機的"
   ]
  },
  {
   "cell_type": "markdown",
   "id": "f0465ffc",
   "metadata": {},
   "source": [
    "1st Try"
   ]
  },
  {
   "cell_type": "code",
   "execution_count": 4,
   "id": "7eab9bfd",
   "metadata": {},
   "outputs": [
    {
     "name": "stdout",
     "output_type": "stream",
     "text": [
      "{\"id\":\"chatcmpl-952aLwISYOX6nkJN5opLyjYT1JlrC\",\"object\":\"chat.completion\",\"created\":1710988605,\"model\":\"gpt-35-turbo\",\"prompt_filter_results\":[{\"prompt_index\":0,\"content_filter_results\":{\"hate\":{\"filtered\":false,\"severity\":\"safe\"},\"self_harm\":{\"filtered\":false,\"severity\":\"safe\"},\"sexual\":{\"filtered\":false,\"severity\":\"safe\"},\"violence\":{\"filtered\":false,\"severity\":\"safe\"}}}],\"choices\":[{\"finish_reason\":\"stop\",\"index\":0,\"message\":{\"role\":\"assistant\",\"content\":\"根據協同過濾的概念，我們會先找出和 c1 有相似品味的其他使用者，再根據這些使用者對餐廳的評分，推薦 c1 還沒評過的餐廳。以下是推薦結果：\\n\\n```\\n[\\n  {\\n    \\\"restaurantId\\\": \\\"r1\\\",\\n    \\\"predictedRating\\\": 2.0\\n  },\\n  {\\n    \\\"restaurantId\\\": \\\"r4\\\",\\n    \\\"predictedRating\\\": 2.3333333333333335\\n  }\\n]\\n```\\n\\n解釋：根據 c1 和其他使用者的評分，我們可以計算出 c1 對 r1 的預測評分為 2.0，對 r4 的預測評分為 2.333。因此，我們推薦 c1 去評分 r1 和 r4。注意，這裡只列出了兩個推薦結果，實際上還有其他未評過的餐廳也可以被推薦。\"},\"content_filter_results\":{\"hate\":{\"filtered\":false,\"severity\":\"safe\"},\"self_harm\":{\"filtered\":false,\"severity\":\"safe\"},\"sexual\":{\"filtered\":false,\"severity\":\"safe\"},\"violence\":{\"filtered\":false,\"severity\":\"safe\"}},\"logprobs\":null}],\"usage\":{\"prompt_tokens\":274,\"completion_tokens\":299,\"total_tokens\":573}}\n",
      "\n"
     ]
    }
   ],
   "source": [
    "import requests\n",
    "\n",
    "url = \"https://dm-lab1.openai.azure.com/openai/deployments/DM/chat/completions?api-version=2024-02-15-preview\"\n",
    "\n",
    "headers = {\n",
    "    \"Content-Type\": \"application/json\",\n",
    "    \"api-key\": \"802379df8edd4f1ba2f029a03bf63424\"\n",
    "}\n",
    "\n",
    "data = {\n",
    "    \"messages\": [\n",
    "        {\"role\": \"system\", \"content\": \"根據 `` 中提供的 rating.csv 資料，用協同過濾的概念推薦餐廳給使用者  ，請以 json array 格式回答\\n\\`\\ncustomerId,restaurantId,rating\\nc1,r2,3\\nc1,r3,1\\nc1,r5,3\\nc1,r6,2\\nc2,r1,3\\nc2,r3,1\\nc2,r5,1\\nc2,r6,1\\nc3,r4,3\\nc3,r5,3\\nc3,r6,3\\nc4,r1,1\\nc4,r4,1\\nc4,r5,3\\nc5,r2,1\\nc5,r3,2\\nc5,r4,3\\nc6,r2,3\\nc6,r3,3\\nc6,r5,3\\nc7,r2,3\\nc7,r3,3\\nc7,r4,1\\nc8,r1,2\\nc8,r2,1\\nc8,r5,1\\nc8,r6,2\\n\\`\"},\n",
    "        {\"role\": \"user\", \"content\": \"c1\"}\n",
    "    ],\n",
    "    \"max_tokens\": 800,\n",
    "    \"temperature\": 0.5,\n",
    "    \"frequency_penalty\": 0,\n",
    "    \"presence_penalty\": 0,\n",
    "    \"top_p\": 0.95,\n",
    "    \"stop\": None\n",
    "}\n",
    "\n",
    "response = requests.post(url, json=data, headers=headers)\n",
    "\n",
    "print(response.text)\n"
   ]
  },
  {
   "cell_type": "markdown",
   "id": "88762ac3",
   "metadata": {},
   "source": [
    "2nd Try"
   ]
  },
  {
   "cell_type": "code",
   "execution_count": 5,
   "id": "7490aa98",
   "metadata": {},
   "outputs": [
    {
     "name": "stdout",
     "output_type": "stream",
     "text": [
      "{\"id\":\"chatcmpl-952gmjHLTtOBbo88z64gqI5mfflZ1\",\"object\":\"chat.completion\",\"created\":1710989004,\"model\":\"gpt-35-turbo\",\"prompt_filter_results\":[{\"prompt_index\":0,\"content_filter_results\":{\"hate\":{\"filtered\":false,\"severity\":\"safe\"},\"self_harm\":{\"filtered\":false,\"severity\":\"safe\"},\"sexual\":{\"filtered\":false,\"severity\":\"safe\"},\"violence\":{\"filtered\":false,\"severity\":\"safe\"}}}],\"choices\":[{\"finish_reason\":\"stop\",\"index\":0,\"message\":{\"role\":\"assistant\",\"content\":\"以下是推薦給 c1 的餐廳清單：\\n\\n```\\n[\\n  {\\n    \\\"restaurantId\\\": \\\"r1\\\",\\n    \\\"score\\\": 2.5\\n  },\\n  {\\n    \\\"restaurantId\\\": \\\"r4\\\",\\n    \\\"score\\\": 2.0\\n  }\\n]\\n```\\n\\n解釋：根據其他使用者對餐廳的評分，我們可以計算出 c1 對 r1 和 r4 的評分分別為 2.5 和 2.0，因此推薦這兩家餐廳。注意，這裡使用的是基於物品的協同過濾算法。\"},\"content_filter_results\":{\"hate\":{\"filtered\":false,\"severity\":\"safe\"},\"self_harm\":{\"filtered\":false,\"severity\":\"safe\"},\"sexual\":{\"filtered\":false,\"severity\":\"safe\"},\"violence\":{\"filtered\":false,\"severity\":\"safe\"}},\"logprobs\":null}],\"usage\":{\"prompt_tokens\":274,\"completion_tokens\":173,\"total_tokens\":447}}\n",
      "\n"
     ]
    }
   ],
   "source": [
    "import requests\n",
    "\n",
    "url = \"https://dm-lab1.openai.azure.com/openai/deployments/DM/chat/completions?api-version=2024-02-15-preview\"\n",
    "\n",
    "headers = {\n",
    "    \"Content-Type\": \"application/json\",\n",
    "    \"api-key\": \"802379df8edd4f1ba2f029a03bf63424\"\n",
    "}\n",
    "\n",
    "data = {\n",
    "    \"messages\": [\n",
    "        {\"role\": \"system\", \"content\": \"根據 `` 中提供的 rating.csv 資料，用協同過濾的概念推薦餐廳給使用者  ，請以 json array 格式回答\\n\\`\\ncustomerId,restaurantId,rating\\nc1,r2,3\\nc1,r3,1\\nc1,r5,3\\nc1,r6,2\\nc2,r1,3\\nc2,r3,1\\nc2,r5,1\\nc2,r6,1\\nc3,r4,3\\nc3,r5,3\\nc3,r6,3\\nc4,r1,1\\nc4,r4,1\\nc4,r5,3\\nc5,r2,1\\nc5,r3,2\\nc5,r4,3\\nc6,r2,3\\nc6,r3,3\\nc6,r5,3\\nc7,r2,3\\nc7,r3,3\\nc7,r4,1\\nc8,r1,2\\nc8,r2,1\\nc8,r5,1\\nc8,r6,2\\n\\`\"},\n",
    "        {\"role\": \"user\", \"content\": \"c1\"}\n",
    "    ],\n",
    "    \"max_tokens\": 800,\n",
    "    \"temperature\": 0.5,\n",
    "    \"frequency_penalty\": 0,\n",
    "    \"presence_penalty\": 0,\n",
    "    \"top_p\": 0.95,\n",
    "    \"stop\": None\n",
    "}\n",
    "\n",
    "response = requests.post(url, json=data, headers=headers)\n",
    "\n",
    "print(response.text)\n"
   ]
  },
  {
   "cell_type": "markdown",
   "id": "575ad22e",
   "metadata": {},
   "source": [
    "# 加上條件 讓回覆趨於一致"
   ]
  },
  {
   "cell_type": "code",
   "execution_count": 11,
   "id": "78041ab4",
   "metadata": {},
   "outputs": [
    {
     "name": "stdout",
     "output_type": "stream",
     "text": [
      "{\"choices\":[{\"content_filter_results\":{\"hate\":{\"filtered\":false,\"severity\":\"safe\"},\"self_harm\":{\"filtered\":false,\"severity\":\"safe\"},\"sexual\":{\"filtered\":false,\"severity\":\"safe\"},\"violence\":{\"filtered\":false,\"severity\":\"safe\"}},\"finish_reason\":\"stop\",\"index\":0,\"logprobs\":null,\"message\":{\"content\":\"[r4,r5,r6]\",\"role\":\"assistant\"}}],\"created\":1710991022,\"id\":\"chatcmpl-953DKymPfc9RtsXC0C1i52hVwFT15\",\"model\":\"gpt-4-32k\",\"object\":\"chat.completion\",\"prompt_filter_results\":[{\"prompt_index\":0,\"content_filter_results\":{\"hate\":{\"filtered\":false,\"severity\":\"safe\"},\"self_harm\":{\"filtered\":false,\"severity\":\"safe\"},\"sexual\":{\"filtered\":false,\"severity\":\"safe\"},\"violence\":{\"filtered\":false,\"severity\":\"safe\"}}}],\"system_fingerprint\":null,\"usage\":{\"completion_tokens\":7,\"prompt_tokens\":302,\"total_tokens\":309}}\n",
      "\n"
     ]
    }
   ],
   "source": [
    "import requests\n",
    "\n",
    "url = \"https://ntnu-ml.openai.azure.com/openai/deployments/ntnu-ml-gpt4-32k/chat/completions?api-version=2024-02-15-preview\"\n",
    "\n",
    "headers = {\n",
    "    \"Content-Type\": \"application/json\",\n",
    "    \"api-key\": \"7c196b48c6c14f25adc5a8d7dcbc8d02\"\n",
    "}\n",
    "\n",
    "data = {\n",
    "    \"messages\": [\n",
    "        {\"role\": \"system\", \"content\": \"根據 `` 中提供的 rating.csv 資料，用協同過濾的概念推薦餐廳給使用者  ，請以 json array 格式回答\\n\\`\\ncustomerId,restaurantId,rating\\nc1,r2,3\\nc1,r3,1\\nc1,r5,3\\nc1,r6,2\\nc2,r1,3\\nc2,r3,1\\nc2,r5,1\\nc2,r6,1\\nc3,r4,3\\nc3,r5,3\\nc3,r6,3\\nc4,r1,1\\nc4,r4,1\\nc4,r5,3\\nc5,r2,1\\nc5,r3,2\\nc5,r4,3\\nc6,r2,3\\nc6,r3,3\\nc6,r5,3\\nc7,r2,3\\nc7,r3,3\\nc7,r4,1\\nc8,r1,2\\nc8,r2,1\\nc8,r5,1\\nc8,r6,2\\n\\`\"},\n",
    "        {\"role\": \"user\", \"content\": \"c1\"},\n",
    "        {\"role\": \"assistant\", \"content\": \"[r2,r4]\"},\n",
    "        {\"role\": \"user\", \"content\": \"c4\"},\n",
    "        {\"role\": \"assistant\", \"content\": \"[r5,r4]\"},\n",
    "        {\"role\": \"user\", \"content\": \"c3\"}\n",
    "    ],\n",
    "    \"max_tokens\": 800,\n",
    "    \"temperature\": 0.5,\n",
    "    \"frequency_penalty\": 0,\n",
    "    \"presence_penalty\": 0,\n",
    "    \"top_p\": 0.95,\n",
    "    \"stop\": None\n",
    "}\n",
    "\n",
    "response = requests.post(url, json=data, headers=headers)\n",
    "\n",
    "print(response.text)\n"
   ]
  },
  {
   "cell_type": "code",
   "execution_count": 12,
   "id": "f9b3dba0",
   "metadata": {},
   "outputs": [
    {
     "name": "stdout",
     "output_type": "stream",
     "text": [
      "{\"choices\":[{\"content_filter_results\":{\"hate\":{\"filtered\":false,\"severity\":\"safe\"},\"self_harm\":{\"filtered\":false,\"severity\":\"safe\"},\"sexual\":{\"filtered\":false,\"severity\":\"safe\"},\"violence\":{\"filtered\":false,\"severity\":\"safe\"}},\"finish_reason\":\"stop\",\"index\":0,\"logprobs\":null,\"message\":{\"content\":\"[r2,r3,r5]\",\"role\":\"assistant\"}}],\"created\":1710991046,\"id\":\"chatcmpl-953Di81gDbGVDhCKpZFD8PVLfbqaP\",\"model\":\"gpt-4-32k\",\"object\":\"chat.completion\",\"prompt_filter_results\":[{\"prompt_index\":0,\"content_filter_results\":{\"hate\":{\"filtered\":false,\"severity\":\"safe\"},\"self_harm\":{\"filtered\":false,\"severity\":\"safe\"},\"sexual\":{\"filtered\":false,\"severity\":\"safe\"},\"violence\":{\"filtered\":false,\"severity\":\"safe\"}}}],\"system_fingerprint\":null,\"usage\":{\"completion_tokens\":7,\"prompt_tokens\":302,\"total_tokens\":309}}\n",
      "\n"
     ]
    }
   ],
   "source": [
    "import requests\n",
    "\n",
    "url = \"https://ntnu-ml.openai.azure.com/openai/deployments/ntnu-ml-gpt4-32k/chat/completions?api-version=2024-02-15-preview\"\n",
    "\n",
    "headers = {\n",
    "    \"Content-Type\": \"application/json\",\n",
    "    \"api-key\": \"7c196b48c6c14f25adc5a8d7dcbc8d02\"\n",
    "}\n",
    "\n",
    "data = {\n",
    "    \"messages\": [\n",
    "        {\"role\": \"system\", \"content\": \"根據 `` 中提供的 rating.csv 資料，用協同過濾的概念推薦餐廳給使用者  ，請以 json array 格式回答\\n\\`\\ncustomerId,restaurantId,rating\\nc1,r2,3\\nc1,r3,1\\nc1,r5,3\\nc1,r6,2\\nc2,r1,3\\nc2,r3,1\\nc2,r5,1\\nc2,r6,1\\nc3,r4,3\\nc3,r5,3\\nc3,r6,3\\nc4,r1,1\\nc4,r4,1\\nc4,r5,3\\nc5,r2,1\\nc5,r3,2\\nc5,r4,3\\nc6,r2,3\\nc6,r3,3\\nc6,r5,3\\nc7,r2,3\\nc7,r3,3\\nc7,r4,1\\nc8,r1,2\\nc8,r2,1\\nc8,r5,1\\nc8,r6,2\\n\\`\"},\n",
    "        {\"role\": \"user\", \"content\": \"c1\"},\n",
    "        {\"role\": \"assistant\", \"content\": \"[r2,r4]\"},\n",
    "        {\"role\": \"user\", \"content\": \"c4\"},\n",
    "        {\"role\": \"assistant\", \"content\": \"[r5,r4]\"},\n",
    "        {\"role\": \"user\", \"content\": \"c6\"}\n",
    "    ],\n",
    "    \"max_tokens\": 800,\n",
    "    \"temperature\": 0.5,\n",
    "    \"frequency_penalty\": 0,\n",
    "    \"presence_penalty\": 0,\n",
    "    \"top_p\": 0.95,\n",
    "    \"stop\": None\n",
    "}\n",
    "\n",
    "response = requests.post(url, json=data, headers=headers)\n",
    "\n",
    "print(response.text)\n"
   ]
  }
 ],
 "metadata": {
  "kernelspec": {
   "display_name": "Python 3 (ipykernel)",
   "language": "python",
   "name": "python3"
  },
  "language_info": {
   "codemirror_mode": {
    "name": "ipython",
    "version": 3
   },
   "file_extension": ".py",
   "mimetype": "text/x-python",
   "name": "python",
   "nbconvert_exporter": "python",
   "pygments_lexer": "ipython3",
   "version": "3.9.12"
  }
 },
 "nbformat": 4,
 "nbformat_minor": 5
}
